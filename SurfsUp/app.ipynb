{
 "cells": [
  {
   "cell_type": "code",
   "execution_count": 133,
   "id": "2cab0ee0",
   "metadata": {},
   "outputs": [],
   "source": [
    "# Import the dependencies.\n",
    "\n",
    "from flask import Flask, json, jsonify\n",
    "import datetime as dt\n",
    "import numpy as np\n",
    "import pandas as pd\n",
    "import sqlalchemy\n",
    "from sqlalchemy.ext.automap import automap_base\n",
    "from sqlalchemy.orm import Session\n",
    "from sqlalchemy import create_engine, func\n",
    "from sqlalchemy import inspect"
   ]
  },
  {
   "cell_type": "code",
   "execution_count": 134,
   "id": "0ca62e9c",
   "metadata": {},
   "outputs": [],
   "source": [
    "#################################################\n",
    "# Database Setup\n",
    "#################################################\n",
    "\n",
    "engine = create_engine(\"sqlite:///../Resources/Starter_Code/Resources/hawaii.sqlite\")"
   ]
  },
  {
   "cell_type": "code",
   "execution_count": 135,
   "id": "636cc11c",
   "metadata": {},
   "outputs": [],
   "source": [
    "# reflect an existing database into a new model\n",
    "\n",
    "Base = automap_base()"
   ]
  },
  {
   "cell_type": "code",
   "execution_count": 136,
   "id": "e0400800",
   "metadata": {},
   "outputs": [],
   "source": [
    "# reflect the tables\n",
    "Base.prepare(engine, reflect=True)"
   ]
  },
  {
   "cell_type": "code",
   "execution_count": 137,
   "id": "e149527b",
   "metadata": {},
   "outputs": [],
   "source": [
    "# Save references to each table\n",
    "measurement = Base.classes.measurement\n",
    "station = Base.classes.station\n"
   ]
  },
  {
   "cell_type": "code",
   "execution_count": 138,
   "id": "42c8325e",
   "metadata": {},
   "outputs": [],
   "source": [
    "# Create our session (link) from Python to the DB\n",
    "session = Session(engine)"
   ]
  },
  {
   "cell_type": "code",
   "execution_count": 139,
   "id": "5ae52895",
   "metadata": {},
   "outputs": [],
   "source": [
    "#################################################\n",
    "# Flask Setup\n",
    "#################################################\n",
    "\n",
    "app = Flask(__name__)"
   ]
  },
  {
   "cell_type": "code",
   "execution_count": 140,
   "id": "7d90b593",
   "metadata": {},
   "outputs": [],
   "source": [
    "#################################################\n",
    "# Flask Routes\n",
    "#################################################\n",
    "\n",
    "#@app.route(\"/\")\n",
    "\n"
   ]
  },
  {
   "cell_type": "code",
   "execution_count": 141,
   "id": "f9f87199",
   "metadata": {},
   "outputs": [],
   "source": [
    "#1 \n",
    "#Start at the homepage.\n",
    "#List all the available routes.\n",
    "\n",
    "@app.route(\"/\")\n",
    "\n",
    "def welcome_page():\n",
    "    \n",
    "    print(\"Homepage.\")\n",
    "    return (\n",
    "       f\"Welcome to the Climate API!:<br/>\"\n",
    "        f\"/api/v1.0/precipitation<br/>\"\n",
    "        f\"/api/v1.0/stations<br/>\"\n",
    "        f\"/api/v1.0/tobs<br/>\"\n",
    "        f\"/api/v1.0/start<br/>\"\n",
    "        f\"/api/v1.0/start/end\"\n",
    "    \n",
    "    )"
   ]
  },
  {
   "cell_type": "code",
   "execution_count": 142,
   "id": "ee394335",
   "metadata": {},
   "outputs": [],
   "source": [
    "#2\n",
    "#/api/v1.0/precipitation\n",
    "\n",
    "#Convert the query results from your precipitation analysis (i.e. retrieve only the last 12 months of data) to a dictionary using date as the key and prcp as the value.\n",
    "#Return the JSON representation of your dictionary.\n",
    "\n",
    "@app.route('/api/v1.0/precipitation/')\n",
    "def precipitation():\n",
    "    \n",
    "    session = Session(engine)\n",
    "    \n",
    "    print(\"In Precipitation section.\")\n",
    "    \n",
    "    year_ago = dt.date(2017, 8, 23) - dt.timedelta(days=365)\n",
    "\n",
    "    prcp_results = session.query(measurement.date, measurement.prcp).\\\n",
    "        filter(measurement.date >= year_ago).\\\n",
    "        order_by(measurement.date).all()\n",
    "    \n",
    "    session.close()\n",
    "\n",
    "    prcp_dict = {date: prcp for date, prcp in prcp_results}\n",
    "    \n",
    "    \n",
    "   \n",
    "    return jsonify(prcp_dict) "
   ]
  },
  {
   "cell_type": "code",
   "execution_count": 144,
   "id": "11e922e9",
   "metadata": {},
   "outputs": [],
   "source": [
    "#3\n",
    "#/api/v1.0/stations\n",
    "#Return a JSON list of stations from the dataset.\n",
    "\n",
    "@app.route(\"/api/v1.0/stations\")\n",
    "\n",
    "def stations():\n",
    "    \n",
    "    session = Session(engine)\n",
    "    \n",
    "    station_results = session.query(station.station).all()\n",
    "    \n",
    "    session.close()\n",
    "    \n",
    "    station_list = []\n",
    "    \n",
    "    for station in station_results:\n",
    "        station_dict = {}\n",
    "        station_dict[\"Station\"] = station.station\n",
    "        station_dict[\"Name\"] = station.name\n",
    "        \n",
    "        station_list.append(station_dict)\n",
    "        \n",
    "    return jsonify(station.list)\n",
    "        "
   ]
  },
  {
   "cell_type": "code",
   "execution_count": 145,
   "id": "5fd033af",
   "metadata": {},
   "outputs": [],
   "source": [
    "#4\n",
    "#/api/v1.0/tobs\n",
    "\n",
    "#Query the dates and temperature observations of the most-active station for the previous year of data.\n",
    "#Return a JSON list of temperature observations for the previous year.\n",
    "\n",
    "@app.route(\"/api/v1.0/tobs\")\n",
    "\n",
    "def tobs():\n",
    "    \n",
    "    session = Session(engine)\n",
    "\n",
    "        \n",
    "    year_ago = dt.date(2017, 8, 23) - dt.timedelta(days=365)\n",
    "        \n",
    "    active_results = session.query(measurement.date, measurement.tobs).\\\n",
    "        filter(measurement.station == 'USC00519281').\\\n",
    "        filter(measurement.date >= year_ago).all()\n",
    "    \n",
    "    session.close()\n",
    "\n",
    "    \n",
    "    tobs_list = []\n",
    "    \n",
    "    for date, tobs in active_results:\n",
    "        tobs_dict = {}\n",
    "        tobs_dict['date'] = date\n",
    "        tobs_dict['tobs'] = tobs\n",
    "        tobs_list.append(tobs_dict)\n",
    "        \n",
    "    return jsonify(tobs_list)\n",
    "        "
   ]
  },
  {
   "cell_type": "code",
   "execution_count": 147,
   "id": "03080557",
   "metadata": {},
   "outputs": [],
   "source": [
    "#5\n",
    "#/api/v1.0/<start> and /api/v1.0/<start>/<end>\n",
    "\n",
    "#Return a JSON list of the minimum temperature, the average temperature, and the maximum temperature for a specified start or start-end range.\n",
    "#For a specified start, calculate TMIN, TAVG, and TMAX for all the dates greater than or equal to the start date.\n",
    "#For a specified start date and end date, calculate TMIN, TAVG, and TMAX for the dates from the start date to the end date, inclusive.\n",
    "\n",
    "@app.route(\"/api/v1.0/<start>\")\n",
    "\n",
    "def temperature(start):\n",
    "    \n",
    "    session = Session(engine)\n",
    "\n",
    "    select_start = [func.min(measurement.tobs), func.avg(measurement.tobs), func.max(measurement.tobs)]\n",
    "    \n",
    "    temp_results = session.query(func.min(measurement.tobs), func.avg(measurement.tobs), func.max(measurement.tobs)).\\\n",
    "        filter(measurement.date >= start).all()\n",
    "    \n",
    "    session.close()\n",
    "    \n",
    "    temp_observed = {}\n",
    "    temp_observed[\"Min_Temp\"] = temp_results[0][0]\n",
    "    temp_observed[\"avg_Temp\"] = temp_results[0][1]\n",
    "    temp_observed[\"max_Temp\"] = temp_results[0][2]\n",
    "    \n",
    "    return jsonify(temp_observed)\n",
    "    \n",
    "@app.route(\"/api/v1.0/start/end\")\n",
    "\n",
    "def temperature_start_end(start, end):\n",
    "    \n",
    "     session = Session(engine)\n",
    "        \n",
    "        result = session.query(func.min(measurement.tobs), func.avg(measurement.tobs), func.max(measurement.tobs)).\\\n",
    "                               filter(measurement.date >= start).filter(measurement.date <= end).all()\n",
    "        \n",
    "        session.close()\n",
    "        \n",
    "        temp_observed[\"Min_temp\"] = result[0][0]\n",
    "        temp_observed[\"avg_temp\"] = result[0][1]\n",
    "        temp_observed[\"max_temp\"] = result[0][2]\n",
    "        \n",
    "        return jsonify(temp_observed)\n",
    "    \n",
    "if __name__ == '__main__':\n",
    "    \n",
    "    app.run(debug=True)\n",
    "    \n",
    "    \n",
    "    \n",
    "    \n"
   ]
  },
  {
   "cell_type": "code",
   "execution_count": null,
   "id": "abf56ecb",
   "metadata": {},
   "outputs": [],
   "source": []
  }
 ],
 "metadata": {
  "kernelspec": {
   "display_name": "Python 3 (ipykernel)",
   "language": "python",
   "name": "python3"
  },
  "language_info": {
   "codemirror_mode": {
    "name": "ipython",
    "version": 3
   },
   "file_extension": ".py",
   "mimetype": "text/x-python",
   "name": "python",
   "nbconvert_exporter": "python",
   "pygments_lexer": "ipython3",
   "version": "3.10.9"
  }
 },
 "nbformat": 4,
 "nbformat_minor": 5
}
